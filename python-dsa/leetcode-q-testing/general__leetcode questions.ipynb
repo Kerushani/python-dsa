{
 "cells": [
  {
   "cell_type": "code",
   "execution_count": 21,
   "id": "e63614d3",
   "metadata": {},
   "outputs": [
    {
     "name": "stdout",
     "output_type": "stream",
     "text": [
      "[4, 5, 5, 8, 8]\n"
     ]
    }
   ],
   "source": [
    "\"\"\"\n",
    "q 703 kth largest element in a stream\n",
    "\n",
    "You are part of a university admissions office and need to keep track of the kth highest test score from \n",
    "applicants in real-time. This helps to determine cut-off marks for interviews and admissions dynamically as \n",
    "new applicants submit their scores.\n",
    "\n",
    "You are tasked to implement a class which, for a given integer k, maintains a stream of test scores and \n",
    "continuously returns the kth highest test score after a new score has been submitted. More specifically, \n",
    "we are looking for the kth highest score in the sorted list of all scores.\n",
    "\n",
    "Implement the KthLargest class:\n",
    "\n",
    "TODO:\n",
    "KthLargest(int k, int[] nums) Initializes the object with the integer k and the stream of test scores nums.\n",
    "int add(int val) Adds a new test score val to the stream and returns the element representing the kth \n",
    "largest element in the pool of test scores so far.\n",
    "\"\"\" \n",
    "# Ex 1.\n",
    "# [\"KthLargest\", \"add\", \"add\", \"add\", \"add\", \"add\"]\n",
    "input = [[3, [4, 5, 8, 2]], [3], [5], [10], [9], [4]]\n",
    "# print(f\"Input: {input[0][1]}\")\n",
    "# output = [null, 4, 5, 5, 8, 8]\n",
    "\n",
    "import heapq\n",
    "\n",
    "class kthLargestElement():\n",
    "    # initaize the class with a minHeap -> passed first element of the input\n",
    "    def __init__(self, nums, k):\n",
    "        # initalize these values as those to the class\n",
    "        self.minHeap, self.k, self.response = nums, k, []\n",
    "        # create the min heap\n",
    "        heapq.heapify(self.minHeap)\n",
    "        # if the minHeap is longer than k, we want to pop the min value (heap is a min heap and we're trying to find the k lARGEST Element)\n",
    "        # will bring down the size of heap to k\n",
    "        while len(self.minHeap) > k:\n",
    "            heapq.heappop(self.minHeap)\n",
    "        \n",
    "    # add values from the input into input array -> loop over the rest of the elements\n",
    "    def add(self, val):\n",
    "        heapq.heappush(self.minHeap, val)\n",
    "        # if adding the val increases the size of the minHeap, we want to pop the min value\n",
    "        if len(self.minHeap) > self.k:\n",
    "            heapq.heappop(self.minHeap)\n",
    "        self.response.append(self.minHeap[0])\n",
    "    def final_output(self):\n",
    "        return self.response\n",
    "\n",
    "\n",
    "# Example\n",
    "findLargestKElement = kthLargestElement(input[0][1], input[0][0])\n",
    "\n",
    "for i in range(1,len(input)):\n",
    "    findLargestKElement.add(input[i][0])\n",
    "\n",
    "print(findLargestKElement.final_output())\n"
   ]
  }
 ],
 "metadata": {
  "kernelspec": {
   "display_name": ".venv",
   "language": "python",
   "name": "python3"
  },
  "language_info": {
   "codemirror_mode": {
    "name": "ipython",
    "version": 3
   },
   "file_extension": ".py",
   "mimetype": "text/x-python",
   "name": "python",
   "nbconvert_exporter": "python",
   "pygments_lexer": "ipython3",
   "version": "3.9.6"
  }
 },
 "nbformat": 4,
 "nbformat_minor": 5
}
