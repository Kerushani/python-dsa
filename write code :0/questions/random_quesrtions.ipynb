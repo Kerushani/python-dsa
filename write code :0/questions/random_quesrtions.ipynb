{
 "cells": [
  {
   "cell_type": "code",
   "execution_count": null,
   "id": "477190f0",
   "metadata": {},
   "outputs": [],
   "source": [
    "\"\"\"\n",
    "implemnet linux find command as an api ,the api willl support finding files that has given size requirements and a file with a certain format like\n",
    "\n",
    "find all file >5mb\n",
    "find all xml\n",
    "Assume file class\n",
    "{\n",
    "get name()\n",
    "directorylistfile()\n",
    "getFile()\n",
    "create a library flexible that is flexible\n",
    "Design clases,interfaces.\n",
    "\n",
    "https://leetcode.com/discuss/post/369272/amazon-onsite-linux-find-command-by-anon-numt/\n",
    "\"\"\""
   ]
  },
  {
   "cell_type": "code",
   "execution_count": null,
   "id": "b9fb5049",
   "metadata": {},
   "outputs": [],
   "source": [
    "\"\"\"\n",
    "https://leetcode.com/discuss/post/7155984/amazon-oa-2025-ctc-51-lpa-sde-1-sep-2025-wbz9/ - Amazon OA Q SDE1\n",
    "\n",
    "Code Question 2\n",
    "\n",
    "Amazon has introduced an innovative tool to explore the fascinating world of \"Word Conjugates\",\n",
    "allowing users to analyze strings consisting of only characters: 'a', 'b', 'c' and 'd'.\n",
    "\n",
    "The concept of conjugates follows a unique pairing mechanism where 'a' pairs with 'b'; 'c' pairs with 'd' and vice-versa. \n",
    "As a result, there are only four possible valid conjugate pairs: ('a', 'b'), ('b', 'a'), ('c', 'd'), and ('d', 'c').\n",
    "\n",
    "The objective is to calculate the total number of valid substrings in a given string s.\n",
    "\n",
    "A string is considered valid if:\n",
    "• There exists a permutation of the string such that the original string and its permutation are conjugates of each other.\n",
    "• Two strings s and t of the same length say n are considered conjugates if, for every index i (0 ≤ i < n), the pair \n",
    "formed by the characters at that index (s[i], t[i]) must be a conjugate pair.\n",
    "\n",
    "Given a string s that only contains the characters 'a', 'b', 'c' and 'd'. Return the total number of valid substrings in \n",
    "the string s according to the specified conjugate rule.\n",
    "\n",
    "Note:\n",
    "• Permutation of a string refers to any possible rearrangement of its characters. For example, the string \"cat\" has \n",
    "6 possible permutations: \"cat\", \"cta\", \"act\", \"atc\", \"tac\", \"tca\".\n",
    "\"\"\""
   ]
  }
 ],
 "metadata": {
  "language_info": {
   "name": "python"
  }
 },
 "nbformat": 4,
 "nbformat_minor": 5
}
